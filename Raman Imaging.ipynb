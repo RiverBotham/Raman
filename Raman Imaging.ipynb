{
  "nbformat": 4,
  "nbformat_minor": 0,
  "metadata": {
    "colab": {
      "provenance": [],
      "gpuType": "T4",
      "mount_file_id": "1GHdCjqh84Xexa4GTzb8qntXQ08wgcIgd",
      "authorship_tag": "ABX9TyMtDyjGl9zXbPja7+nRCUDs",
      "include_colab_link": true
    },
    "kernelspec": {
      "name": "python3",
      "display_name": "Python 3"
    },
    "language_info": {
      "name": "python"
    }
  },
  "cells": [
    {
      "cell_type": "markdown",
      "metadata": {
        "id": "view-in-github",
        "colab_type": "text"
      },
      "source": [
        "<a href=\"https://colab.research.google.com/github/RiverBotham/Raman/blob/main/Raman%20Imaging.ipynb\" target=\"_parent\"><img src=\"https://colab.research.google.com/assets/colab-badge.svg\" alt=\"Open In Colab\"/></a>"
      ]
    },
    {
      "cell_type": "markdown",
      "source": [
        "# TODO:\n",
        "\n",
        "\n",
        "*   Add utilities to github\n",
        "*   Update this notebook to clone repo\n",
        "*   Add updates to this notbook to run a train & test for de-noising using images from google drive but utilities from github\n",
        "*   Add in k-means & testing framework\n",
        "*   Repeat with second notebook for hyper-spectral super sesolution\n",
        "\n"
      ],
      "metadata": {
        "id": "D077tOtY-b6g"
      }
    }
  ]
}